{
 "cells": [
  {
   "cell_type": "code",
   "execution_count": 1,
   "id": "0b548fe6-c0d7-4092-bd7d-63f68b041d07",
   "metadata": {},
   "outputs": [],
   "source": [
    "import socket"
   ]
  },
  {
   "cell_type": "code",
   "execution_count": 2,
   "id": "24015dd1-1deb-49ee-bbc2-eba7b9d6bd2f",
   "metadata": {},
   "outputs": [],
   "source": [
    "UDP_IP = \"127.0.0.1\" # Use localhost\n",
    "UDP_PORT = 12345"
   ]
  },
  {
   "cell_type": "code",
   "execution_count": 3,
   "id": "6724699e-7057-406f-a15a-cb1eb40f9826",
   "metadata": {},
   "outputs": [],
   "source": [
    "sock = socket.socket(socket.AF_INET, socket.SOCK_DGRAM)\n",
    "sock.bind((UDP_IP, UDP_PORT))"
   ]
  },
  {
   "cell_type": "code",
   "execution_count": 4,
   "id": "963f0a68-0ee8-4cee-b7d7-f3458cd0b0ba",
   "metadata": {},
   "outputs": [
    {
     "name": "stdout",
     "output_type": "stream",
     "text": [
      "Listening for packet data...\n"
     ]
    }
   ],
   "source": [
    "print(\"Listening for packet data...\")\n",
    "while True:\n",
    "    data, addr = sock.recv"
   ]
  },
  {
   "cell_type": "code",
   "execution_count": null,
   "id": "307ca778-8e39-4608-8c78-f393829717d6",
   "metadata": {},
   "outputs": [],
   "source": []
  }
 ],
 "metadata": {
  "kernelspec": {
   "display_name": "Python 3 (ipykernel)",
   "language": "python",
   "name": "python3"
  },
  "language_info": {
   "codemirror_mode": {
    "name": "ipython",
    "version": 3
   },
   "file_extension": ".py",
   "mimetype": "text/x-python",
   "name": "python",
   "nbconvert_exporter": "python",
   "pygments_lexer": "ipython3",
   "version": "3.8.18"
  }
 },
 "nbformat": 4,
 "nbformat_minor": 5
}
