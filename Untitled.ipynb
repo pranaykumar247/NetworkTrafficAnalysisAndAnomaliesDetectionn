{
 "cells": [
  {
   "cell_type": "code",
   "execution_count": null,
   "id": "448d96ec-1023-4f7a-ad5d-2e9a5cb53f75",
   "metadata": {},
   "outputs": [],
   "source": [
    "pip install scapy"
   ]
  },
  {
   "cell_type": "code",
   "execution_count": null,
   "id": "f9a92da0-98fb-49f1-b273-9ae5d8c0d1fd",
   "metadata": {},
   "outputs": [],
   "source": [
    "pip install pandas matplotlib numpy"
   ]
  },
  {
   "cell_type": "code",
   "execution_count": 1,
   "id": "38e8e645-59cc-4720-a774-b64374c1ec61",
   "metadata": {},
   "outputs": [],
   "source": [
    "from scapy.all import sniff, IP, TCP, conf\n",
    "import pandas as pd\n",
    "import matplotlib.pyplot as plt"
   ]
  },
  {
   "cell_type": "code",
   "execution_count": 2,
   "id": "489ebc22-91de-463b-9ea1-b960ffc01ad7",
   "metadata": {},
   "outputs": [],
   "source": [
    "# Initialize lists to store extracted data\n",
    "timestamps = []\n",
    "source_ips = []\n",
    "destination_ips = []\n",
    "source_ports = []\n",
    "destination_ports = []"
   ]
  },
  {
   "cell_type": "code",
   "execution_count": 3,
   "id": "9036bb1b-b60d-4fdb-bf04-8d93a4a9f1d1",
   "metadata": {},
   "outputs": [],
   "source": [
    "def packet_handler(packet):\n",
    "    \"\"\"\n",
    "    Packet Handler Function for Network Traffic Analysis\n",
    "\n",
    "    Parameters:\n",
    "    - packet: Captured network packet\n",
    "\n",
    "    Description:\n",
    "    This function processes network packets in real-time, extracts relevant information,\n",
    "    and stores it for further analysis.\n",
    "\n",
    "    Key Points:\n",
    "    1. Uses Scapy to capture and process network packets.\n",
    "    2. Extracts timestamp, source/destination IP addresses, and port numbers.\n",
    "    3. Appends the extracted data to corresponding lists for later analysis.\n",
    "\n",
    "    Usage:\n",
    "    - Modify the logic within this function based on the specific information you want to extract.\n",
    "\n",
    "    Note:\n",
    "    - Adjust the 'filter' and 'iface' parameters in the 'sniff' function based on your requirements.\n",
    "    \"\"\"\n",
    "    if packet.haslayer(IP) and packet.haslayer(TCP):\n",
    "        timestamps.append(packet.time)\n",
    "        source_ips.append(packet[IP].src)\n",
    "        destination_ips.append(packet[IP].dst)\n",
    "        source_ports.append(packet[TCP].sport)\n",
    "        destination_ports.append(packet[TCP].dport)"
   ]
  },
  {
   "cell_type": "code",
   "execution_count": 7,
   "id": "38dedbd5-a24b-4784-ad02-348ef767401a",
   "metadata": {},
   "outputs": [],
   "source": [
    "conf.winpcap_path = \"C:\\Program Files (x86)\\Win10Pcap\\x64\""
   ]
  },
  {
   "cell_type": "code",
   "execution_count": 8,
   "id": "b0276f95-bb9d-4436-8f0b-ccdd1caf5cf8",
   "metadata": {},
   "outputs": [
    {
     "ename": "OSError",
     "evalue": "Error opening adapter: The filename, directory name, or volume label syntax is incorrect.  (123)",
     "output_type": "error",
     "traceback": [
      "\u001b[1;31m---------------------------------------------------------------------------\u001b[0m",
      "\u001b[1;31mOSError\u001b[0m                                   Traceback (most recent call last)",
      "Cell \u001b[1;32mIn[8], line 2\u001b[0m\n\u001b[0;32m      1\u001b[0m \u001b[38;5;66;03m# Start capturing packets (adjust the filter and iface based on your requirements)\u001b[39;00m\n\u001b[1;32m----> 2\u001b[0m \u001b[43msniff\u001b[49m\u001b[43m(\u001b[49m\u001b[43mprn\u001b[49m\u001b[38;5;241;43m=\u001b[39;49m\u001b[43mpacket_handler\u001b[49m\u001b[43m,\u001b[49m\u001b[43m \u001b[49m\u001b[38;5;28;43mfilter\u001b[39;49m\u001b[38;5;241;43m=\u001b[39;49m\u001b[38;5;124;43m\"\u001b[39;49m\u001b[38;5;124;43mtcp\u001b[39;49m\u001b[38;5;124;43m\"\u001b[39;49m\u001b[43m,\u001b[49m\u001b[43m \u001b[49m\u001b[43miface\u001b[49m\u001b[38;5;241;43m=\u001b[39;49m\u001b[38;5;124;43m\"\u001b[39;49m\u001b[38;5;124;43meth0\u001b[39;49m\u001b[38;5;124;43m\"\u001b[39;49m\u001b[43m,\u001b[49m\u001b[43m \u001b[49m\u001b[43mstore\u001b[49m\u001b[38;5;241;43m=\u001b[39;49m\u001b[38;5;241;43m0\u001b[39;49m\u001b[43m)\u001b[49m\n",
      "File \u001b[1;32mD:\\FInal Year Project\\final\\lib\\site-packages\\scapy\\sendrecv.py:1311\u001b[0m, in \u001b[0;36msniff\u001b[1;34m(*args, **kwargs)\u001b[0m\n\u001b[0;32m   1307\u001b[0m \u001b[38;5;129m@conf\u001b[39m\u001b[38;5;241m.\u001b[39mcommands\u001b[38;5;241m.\u001b[39mregister\n\u001b[0;32m   1308\u001b[0m \u001b[38;5;28;01mdef\u001b[39;00m \u001b[38;5;21msniff\u001b[39m(\u001b[38;5;241m*\u001b[39margs, \u001b[38;5;241m*\u001b[39m\u001b[38;5;241m*\u001b[39mkwargs):\n\u001b[0;32m   1309\u001b[0m     \u001b[38;5;66;03m# type: (*Any, **Any) -> PacketList\u001b[39;00m\n\u001b[0;32m   1310\u001b[0m     sniffer \u001b[38;5;241m=\u001b[39m AsyncSniffer()\n\u001b[1;32m-> 1311\u001b[0m     \u001b[43msniffer\u001b[49m\u001b[38;5;241;43m.\u001b[39;49m\u001b[43m_run\u001b[49m\u001b[43m(\u001b[49m\u001b[38;5;241;43m*\u001b[39;49m\u001b[43margs\u001b[49m\u001b[43m,\u001b[49m\u001b[43m \u001b[49m\u001b[38;5;241;43m*\u001b[39;49m\u001b[38;5;241;43m*\u001b[39;49m\u001b[43mkwargs\u001b[49m\u001b[43m)\u001b[49m\n\u001b[0;32m   1312\u001b[0m     \u001b[38;5;28;01mreturn\u001b[39;00m cast(PacketList, sniffer\u001b[38;5;241m.\u001b[39mresults)\n",
      "File \u001b[1;32mD:\\FInal Year Project\\final\\lib\\site-packages\\scapy\\sendrecv.py:1171\u001b[0m, in \u001b[0;36mAsyncSniffer._run\u001b[1;34m(self, count, store, offline, quiet, prn, lfilter, L2socket, timeout, opened_socket, stop_filter, iface, started_callback, session, session_kwargs, **karg)\u001b[0m\n\u001b[0;32m   1169\u001b[0m     \u001b[38;5;28;01melse\u001b[39;00m:\n\u001b[0;32m   1170\u001b[0m         iface \u001b[38;5;241m=\u001b[39m iface \u001b[38;5;129;01mor\u001b[39;00m conf\u001b[38;5;241m.\u001b[39miface\n\u001b[1;32m-> 1171\u001b[0m         sniff_sockets[\u001b[43m_RL2\u001b[49m\u001b[43m(\u001b[49m\u001b[43miface\u001b[49m\u001b[43m)\u001b[49m\u001b[43m(\u001b[49m\u001b[38;5;28;43mtype\u001b[39;49m\u001b[38;5;241;43m=\u001b[39;49m\u001b[43mETH_P_ALL\u001b[49m\u001b[43m,\u001b[49m\u001b[43m \u001b[49m\u001b[43miface\u001b[49m\u001b[38;5;241;43m=\u001b[39;49m\u001b[43miface\u001b[49m\u001b[43m,\u001b[49m\n\u001b[0;32m   1172\u001b[0m \u001b[43m                                  \u001b[49m\u001b[38;5;241;43m*\u001b[39;49m\u001b[38;5;241;43m*\u001b[39;49m\u001b[43mkarg\u001b[49m\u001b[43m)\u001b[49m] \u001b[38;5;241m=\u001b[39m iface\n\u001b[0;32m   1174\u001b[0m \u001b[38;5;66;03m# Get select information from the sockets\u001b[39;00m\n\u001b[0;32m   1175\u001b[0m _main_socket \u001b[38;5;241m=\u001b[39m \u001b[38;5;28mnext\u001b[39m(\u001b[38;5;28miter\u001b[39m(sniff_sockets))\n",
      "File \u001b[1;32mD:\\FInal Year Project\\final\\lib\\site-packages\\scapy\\arch\\libpcap.py:481\u001b[0m, in \u001b[0;36mL2pcapListenSocket.__init__\u001b[1;34m(self, iface, type, promisc, filter, monitor)\u001b[0m\n\u001b[0;32m    479\u001b[0m \u001b[38;5;28;01melse\u001b[39;00m:\n\u001b[0;32m    480\u001b[0m     \u001b[38;5;28mself\u001b[39m\u001b[38;5;241m.\u001b[39mpromisc \u001b[38;5;241m=\u001b[39m conf\u001b[38;5;241m.\u001b[39msniff_promisc\n\u001b[1;32m--> 481\u001b[0m fd \u001b[38;5;241m=\u001b[39m \u001b[43mopen_pcap\u001b[49m\u001b[43m(\u001b[49m\n\u001b[0;32m    482\u001b[0m \u001b[43m    \u001b[49m\u001b[43miface\u001b[49m\u001b[43m,\u001b[49m\u001b[43m \u001b[49m\u001b[43mMTU\u001b[49m\u001b[43m,\u001b[49m\u001b[43m \u001b[49m\u001b[38;5;28;43mself\u001b[39;49m\u001b[38;5;241;43m.\u001b[39;49m\u001b[43mpromisc\u001b[49m\u001b[43m,\u001b[49m\u001b[43m \u001b[49m\u001b[38;5;241;43m100\u001b[39;49m\u001b[43m,\u001b[49m\n\u001b[0;32m    483\u001b[0m \u001b[43m    \u001b[49m\u001b[43mmonitor\u001b[49m\u001b[38;5;241;43m=\u001b[39;49m\u001b[43mmonitor\u001b[49m\n\u001b[0;32m    484\u001b[0m \u001b[43m\u001b[49m\u001b[43m)\u001b[49m\n\u001b[0;32m    485\u001b[0m \u001b[38;5;28msuper\u001b[39m(L2pcapListenSocket, \u001b[38;5;28mself\u001b[39m)\u001b[38;5;241m.\u001b[39m\u001b[38;5;21m__init__\u001b[39m(fd)\n\u001b[0;32m    486\u001b[0m \u001b[38;5;28;01mtry\u001b[39;00m:\n",
      "File \u001b[1;32mD:\\FInal Year Project\\final\\lib\\site-packages\\scapy\\arch\\windows\\__init__.py:770\u001b[0m, in \u001b[0;36mopen_pcap\u001b[1;34m(iface, *args, **kargs)\u001b[0m\n\u001b[0;32m    766\u001b[0m     \u001b[38;5;28;01mif\u001b[39;00m kw_monitor \u001b[38;5;129;01mis\u001b[39;00m \u001b[38;5;129;01mnot\u001b[39;00m monitored:\n\u001b[0;32m    767\u001b[0m         \u001b[38;5;66;03m# The monitor param is specified, and not matching the current\u001b[39;00m\n\u001b[0;32m    768\u001b[0m         \u001b[38;5;66;03m# interface state\u001b[39;00m\n\u001b[0;32m    769\u001b[0m         iface\u001b[38;5;241m.\u001b[39msetmonitor(kw_monitor)\n\u001b[1;32m--> 770\u001b[0m \u001b[38;5;28;01mreturn\u001b[39;00m \u001b[43m_orig_open_pcap\u001b[49m\u001b[43m(\u001b[49m\u001b[43miface_network_name\u001b[49m\u001b[43m,\u001b[49m\u001b[43m \u001b[49m\u001b[38;5;241;43m*\u001b[39;49m\u001b[43margs\u001b[49m\u001b[43m,\u001b[49m\u001b[43m \u001b[49m\u001b[38;5;241;43m*\u001b[39;49m\u001b[38;5;241;43m*\u001b[39;49m\u001b[43mkargs\u001b[49m\u001b[43m)\u001b[49m\n",
      "File \u001b[1;32mD:\\FInal Year Project\\final\\lib\\site-packages\\scapy\\arch\\libpcap.py:338\u001b[0m, in \u001b[0;36m_PcapWrapper_libpcap.__init__\u001b[1;34m(self, device, snaplen, promisc, to_ms, monitor)\u001b[0m\n\u001b[0;32m    336\u001b[0m     error \u001b[38;5;241m=\u001b[39m decode_locale_str(\u001b[38;5;28mbytearray\u001b[39m(\u001b[38;5;28mself\u001b[39m\u001b[38;5;241m.\u001b[39merrbuf)\u001b[38;5;241m.\u001b[39mstrip(\u001b[38;5;124mb\u001b[39m\u001b[38;5;124m\"\u001b[39m\u001b[38;5;130;01m\\x00\u001b[39;00m\u001b[38;5;124m\"\u001b[39m))\n\u001b[0;32m    337\u001b[0m     \u001b[38;5;28;01mif\u001b[39;00m error:\n\u001b[1;32m--> 338\u001b[0m         \u001b[38;5;28;01mraise\u001b[39;00m \u001b[38;5;167;01mOSError\u001b[39;00m(error)\n\u001b[0;32m    340\u001b[0m \u001b[38;5;28;01mif\u001b[39;00m WINDOWS:\n\u001b[0;32m    341\u001b[0m     \u001b[38;5;66;03m# Winpcap/Npcap exclusive: make every packet to be instantly\u001b[39;00m\n\u001b[0;32m    342\u001b[0m     \u001b[38;5;66;03m# returned, and not buffered within Winpcap/Npcap\u001b[39;00m\n\u001b[0;32m    343\u001b[0m     pcap_setmintocopy(\u001b[38;5;28mself\u001b[39m\u001b[38;5;241m.\u001b[39mpcap, \u001b[38;5;241m0\u001b[39m)\n",
      "\u001b[1;31mOSError\u001b[0m: Error opening adapter: The filename, directory name, or volume label syntax is incorrect.  (123)"
     ]
    }
   ],
   "source": [
    "# Start capturing packets (adjust the filter and iface based on your requirements)\n",
    "sniff(prn=packet_handler, filter=\"tcp\", iface=\"eth0\", store=0)"
   ]
  },
  {
   "cell_type": "code",
   "execution_count": null,
   "id": "7fa8a2a8-1dcb-4d89-b5e2-febcb19fc06d",
   "metadata": {},
   "outputs": [],
   "source": [
    "net stop npcap"
   ]
  }
 ],
 "metadata": {
  "kernelspec": {
   "display_name": "Python 3 (ipykernel)",
   "language": "python",
   "name": "python3"
  },
  "language_info": {
   "codemirror_mode": {
    "name": "ipython",
    "version": 3
   },
   "file_extension": ".py",
   "mimetype": "text/x-python",
   "name": "python",
   "nbconvert_exporter": "python",
   "pygments_lexer": "ipython3",
   "version": "3.8.18"
  }
 },
 "nbformat": 4,
 "nbformat_minor": 5
}
