{
 "cells": [
  {
   "cell_type": "code",
   "execution_count": 1,
   "id": "8ce12577-c610-49d4-a821-fc9b43fa88e5",
   "metadata": {},
   "outputs": [],
   "source": [
    "import pyshark"
   ]
  },
  {
   "cell_type": "code",
   "execution_count": 2,
   "id": "f02cf0fa-589d-47ae-b529-03be4e668fc8",
   "metadata": {},
   "outputs": [],
   "source": [
    "# Path to the exported packet file (e.g., pcap file)\n",
    "pcap_file = 'demo.pcap'"
   ]
  },
  {
   "cell_type": "code",
   "execution_count": 3,
   "id": "4b0efdd8-a95c-45eb-b30a-8b4970939543",
   "metadata": {},
   "outputs": [
    {
     "name": "stderr",
     "output_type": "stream",
     "text": [
      "D:\\FInal Year Project\\final\\lib\\site-packages\\pyshark\\capture\\capture.py:177: UserWarning: The running eventloop has tasks but pyshark must set a new eventloop to continue. Existing tasks may not run.\n",
      "  warnings.warn(\"The running eventloop has tasks but pyshark must set a new eventloop to continue. \"\n"
     ]
    }
   ],
   "source": [
    "# Open the pcap file for reading\n",
    "capture = pyshark.FileCapture(pcap_file)\n"
   ]
  },
  {
   "cell_type": "code",
   "execution_count": 4,
   "id": "543a117c-2901-4bd9-99d7-6994850c7366",
   "metadata": {},
   "outputs": [],
   "source": [
    "# Initialize counters for statistics\n",
    "total_packets = 0\n",
    "tcp_packets = 0\n",
    "udp_packets = 0\n",
    "icmp_packets = 0\n",
    "other_packets = 0\n",
    "\n",
    "# Initialize dictionaries to store additional information\n",
    "source_ips = {}\n",
    "destination_ips = {}\n",
    "source_ports = {}\n",
    "destination_ports = {}"
   ]
  },
  {
   "cell_type": "code",
   "execution_count": 9,
   "id": "ef578046-e119-4246-9bdc-ce514aeba5ab",
   "metadata": {},
   "outputs": [
    {
     "ename": "RuntimeError",
     "evalue": "Cannot run the event loop while another loop is running",
     "output_type": "error",
     "traceback": [
      "\u001b[1;31m---------------------------------------------------------------------------\u001b[0m",
      "\u001b[1;31mRuntimeError\u001b[0m                              Traceback (most recent call last)",
      "Cell \u001b[1;32mIn[9], line 2\u001b[0m\n\u001b[0;32m      1\u001b[0m \u001b[38;5;66;03m# Iterate over each packet and process them\u001b[39;00m\n\u001b[1;32m----> 2\u001b[0m \u001b[38;5;28;01mfor\u001b[39;00m packet \u001b[38;5;129;01min\u001b[39;00m capture:\n\u001b[0;32m      3\u001b[0m     total_packets \u001b[38;5;241m+\u001b[39m\u001b[38;5;241m=\u001b[39m \u001b[38;5;241m1\u001b[39m\n\u001b[0;32m      5\u001b[0m     \u001b[38;5;66;03m# Extract protocol type (e.g., TCP, UDP, ICMP)\u001b[39;00m\n",
      "File \u001b[1;32mD:\\FInal Year Project\\final\\lib\\site-packages\\pyshark\\capture\\capture.py:212\u001b[0m, in \u001b[0;36mCapture._packets_from_tshark_sync\u001b[1;34m(self, packet_count, existing_process)\u001b[0m\n\u001b[0;32m    204\u001b[0m \u001b[38;5;250m\u001b[39m\u001b[38;5;124;03m\"\"\"Returns a generator of packets.\u001b[39;00m\n\u001b[0;32m    205\u001b[0m \n\u001b[0;32m    206\u001b[0m \u001b[38;5;124;03mThis is the sync version of packets_from_tshark. It wait for the completion of each coroutine and\u001b[39;00m\n\u001b[1;32m   (...)\u001b[0m\n\u001b[0;32m    209\u001b[0m \u001b[38;5;124;03m:param packet_count: If given, stops after this amount of packets is captured.\u001b[39;00m\n\u001b[0;32m    210\u001b[0m \u001b[38;5;124;03m\"\"\"\u001b[39;00m\n\u001b[0;32m    211\u001b[0m \u001b[38;5;66;03m# NOTE: This has code duplication with the async version, think about how to solve this\u001b[39;00m\n\u001b[1;32m--> 212\u001b[0m tshark_process \u001b[38;5;241m=\u001b[39m existing_process \u001b[38;5;129;01mor\u001b[39;00m \u001b[38;5;28;43mself\u001b[39;49m\u001b[38;5;241;43m.\u001b[39;49m\u001b[43meventloop\u001b[49m\u001b[38;5;241;43m.\u001b[39;49m\u001b[43mrun_until_complete\u001b[49m\u001b[43m(\u001b[49m\n\u001b[0;32m    213\u001b[0m \u001b[43m    \u001b[49m\u001b[38;5;28;43mself\u001b[39;49m\u001b[38;5;241;43m.\u001b[39;49m\u001b[43m_get_tshark_process\u001b[49m\u001b[43m(\u001b[49m\u001b[43m)\u001b[49m\u001b[43m)\u001b[49m\n\u001b[0;32m    214\u001b[0m parser \u001b[38;5;241m=\u001b[39m \u001b[38;5;28mself\u001b[39m\u001b[38;5;241m.\u001b[39m_setup_tshark_output_parser()\n\u001b[0;32m    215\u001b[0m packets_captured \u001b[38;5;241m=\u001b[39m \u001b[38;5;241m0\u001b[39m\n",
      "File \u001b[1;32mD:\\FInal Year Project\\final\\lib\\asyncio\\base_events.py:592\u001b[0m, in \u001b[0;36mBaseEventLoop.run_until_complete\u001b[1;34m(self, future)\u001b[0m\n\u001b[0;32m    581\u001b[0m \u001b[38;5;250m\u001b[39m\u001b[38;5;124;03m\"\"\"Run until the Future is done.\u001b[39;00m\n\u001b[0;32m    582\u001b[0m \n\u001b[0;32m    583\u001b[0m \u001b[38;5;124;03mIf the argument is a coroutine, it is wrapped in a Task.\u001b[39;00m\n\u001b[1;32m   (...)\u001b[0m\n\u001b[0;32m    589\u001b[0m \u001b[38;5;124;03mReturn the Future's result, or raise its exception.\u001b[39;00m\n\u001b[0;32m    590\u001b[0m \u001b[38;5;124;03m\"\"\"\u001b[39;00m\n\u001b[0;32m    591\u001b[0m \u001b[38;5;28mself\u001b[39m\u001b[38;5;241m.\u001b[39m_check_closed()\n\u001b[1;32m--> 592\u001b[0m \u001b[38;5;28;43mself\u001b[39;49m\u001b[38;5;241;43m.\u001b[39;49m\u001b[43m_check_running\u001b[49m\u001b[43m(\u001b[49m\u001b[43m)\u001b[49m\n\u001b[0;32m    594\u001b[0m new_task \u001b[38;5;241m=\u001b[39m \u001b[38;5;129;01mnot\u001b[39;00m futures\u001b[38;5;241m.\u001b[39misfuture(future)\n\u001b[0;32m    595\u001b[0m future \u001b[38;5;241m=\u001b[39m tasks\u001b[38;5;241m.\u001b[39mensure_future(future, loop\u001b[38;5;241m=\u001b[39m\u001b[38;5;28mself\u001b[39m)\n",
      "File \u001b[1;32mD:\\FInal Year Project\\final\\lib\\asyncio\\base_events.py:554\u001b[0m, in \u001b[0;36mBaseEventLoop._check_running\u001b[1;34m(self)\u001b[0m\n\u001b[0;32m    552\u001b[0m     \u001b[38;5;28;01mraise\u001b[39;00m \u001b[38;5;167;01mRuntimeError\u001b[39;00m(\u001b[38;5;124m'\u001b[39m\u001b[38;5;124mThis event loop is already running\u001b[39m\u001b[38;5;124m'\u001b[39m)\n\u001b[0;32m    553\u001b[0m \u001b[38;5;28;01mif\u001b[39;00m events\u001b[38;5;241m.\u001b[39m_get_running_loop() \u001b[38;5;129;01mis\u001b[39;00m \u001b[38;5;129;01mnot\u001b[39;00m \u001b[38;5;28;01mNone\u001b[39;00m:\n\u001b[1;32m--> 554\u001b[0m     \u001b[38;5;28;01mraise\u001b[39;00m \u001b[38;5;167;01mRuntimeError\u001b[39;00m(\n\u001b[0;32m    555\u001b[0m         \u001b[38;5;124m'\u001b[39m\u001b[38;5;124mCannot run the event loop while another loop is running\u001b[39m\u001b[38;5;124m'\u001b[39m)\n",
      "\u001b[1;31mRuntimeError\u001b[0m: Cannot run the event loop while another loop is running"
     ]
    }
   ],
   "source": [
    "# Iterate over each packet and process them\n",
    "for packet in capture:\n",
    "    total_packets += 1\n",
    "    \n",
    "    # Extract protocol type (e.g., TCP, UDP, ICMP)\n",
    "    if 'IP' in packet:\n",
    "        ip = packet['IP']\n",
    "        protocol = ip.proto\n",
    "        src_ip = ip.src\n",
    "        dst_ip = ip.dst\n",
    "        \n",
    "        # Count packets for each protocol type\n",
    "        if protocol == '6':  # TCP protocol\n",
    "            tcp_packets += 1\n",
    "        elif protocol == '17':  # UDP protocol\n",
    "            udp_packets += 1\n",
    "        elif protocol == '1':  # ICMP protocol\n",
    "            icmp_packets += 1\n",
    "        else:\n",
    "            other_packets += 1\n",
    "        \n",
    "        # Track source and destination IPs\n",
    "        if src_ip not in source_ips:\n",
    "            source_ips[src_ip] = 1\n",
    "        else:\n",
    "            source_ips[src_ip] += 1\n",
    "        \n",
    "        if dst_ip not in destination_ips:\n",
    "            destination_ips[dst_ip] = 1\n",
    "        else:\n",
    "            destination_ips[dst_ip] += 1\n",
    "        \n",
    "        # Extract source and destination ports (if applicable)\n",
    "        if 'TCP' in packet:\n",
    "            src_port = packet['TCP'].srcport\n",
    "            dst_port = packet['TCP'].dstport\n",
    "        elif 'UDP' in packet:\n",
    "            src_port = packet['UDP'].srcport\n",
    "            dst_port = packet['UDP'].dstport\n",
    "        else:\n",
    "            src_port = None\n",
    "            dst_port = None\n",
    "        \n",
    "        # Track source and destination ports\n",
    "        if src_port:\n",
    "            if src_port not in source_ports:\n",
    "                source_ports[src_port] = 1\n",
    "            else:\n",
    "                source_ports[src_port] += 1\n",
    "        \n",
    "        if dst_port:\n",
    "            if dst_port not in destination_ports:\n",
    "                destination_ports[dst_port] = 1\n",
    "            else:\n",
    "                destination_ports[dst_port] += 1\n",
    "# Print statistics\n",
    "print(\"Total packets:\", total_packets)\n",
    "print(\"TCP packets:\", tcp_packets)\n",
    "print(\"UDP packets:\", udp_packets)\n",
    "print(\"ICMP packets:\", icmp_packets)\n",
    "print(\"Other packets:\", other_packets)"
   ]
  },
  {
   "cell_type": "code",
   "execution_count": null,
   "id": "2be3b649-2629-4bfc-8257-312036d39808",
   "metadata": {},
   "outputs": [],
   "source": []
  }
 ],
 "metadata": {
  "kernelspec": {
   "display_name": "Python 3 (ipykernel)",
   "language": "python",
   "name": "python3"
  },
  "language_info": {
   "codemirror_mode": {
    "name": "ipython",
    "version": 3
   },
   "file_extension": ".py",
   "mimetype": "text/x-python",
   "name": "python",
   "nbconvert_exporter": "python",
   "pygments_lexer": "ipython3",
   "version": "3.8.18"
  }
 },
 "nbformat": 4,
 "nbformat_minor": 5
}
